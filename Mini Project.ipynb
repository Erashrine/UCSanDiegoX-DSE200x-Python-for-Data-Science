{
 "cells": [
  {
   "cell_type": "code",
   "execution_count": 2,
   "metadata": {},
   "outputs": [],
   "source": [
    "import pandas as pd\n",
    "import numpy as np\n",
    "import matplotlib.pyplot as plt"
   ]
  },
  {
   "cell_type": "code",
   "execution_count": 3,
   "metadata": {},
   "outputs": [
    {
     "data": {
      "text/plain": [
       "(5656458, 6)"
      ]
     },
     "execution_count": 3,
     "metadata": {},
     "output_type": "execute_result"
    }
   ],
   "source": [
    "data = pd.read_csv('~/downloads/world-development-indicators/Indicators.csv')\n",
    "data.shape"
   ]
  },
  {
   "cell_type": "code",
   "execution_count": 4,
   "metadata": {},
   "outputs": [
    {
     "data": {
      "text/html": [
       "<div>\n",
       "<style scoped>\n",
       "    .dataframe tbody tr th:only-of-type {\n",
       "        vertical-align: middle;\n",
       "    }\n",
       "\n",
       "    .dataframe tbody tr th {\n",
       "        vertical-align: top;\n",
       "    }\n",
       "\n",
       "    .dataframe thead th {\n",
       "        text-align: right;\n",
       "    }\n",
       "</style>\n",
       "<table border=\"1\" class=\"dataframe\">\n",
       "  <thead>\n",
       "    <tr style=\"text-align: right;\">\n",
       "      <th></th>\n",
       "      <th>WEO Country Code</th>\n",
       "      <th>ISO</th>\n",
       "      <th>WEO Subject Code</th>\n",
       "      <th>Country</th>\n",
       "      <th>Subject Descriptor</th>\n",
       "      <th>Subject Notes</th>\n",
       "      <th>Units</th>\n",
       "      <th>Scale</th>\n",
       "      <th>Country/Series-specific Notes</th>\n",
       "      <th>1980</th>\n",
       "      <th>...</th>\n",
       "      <th>2014</th>\n",
       "      <th>2015</th>\n",
       "      <th>2016</th>\n",
       "      <th>2017</th>\n",
       "      <th>2018</th>\n",
       "      <th>2019</th>\n",
       "      <th>2020</th>\n",
       "      <th>2021</th>\n",
       "      <th>2022</th>\n",
       "      <th>Estimates Start After</th>\n",
       "    </tr>\n",
       "  </thead>\n",
       "  <tbody>\n",
       "    <tr>\n",
       "      <th>0</th>\n",
       "      <td>512</td>\n",
       "      <td>AFG</td>\n",
       "      <td>NGDP_R</td>\n",
       "      <td>Afghanistan</td>\n",
       "      <td>Gross domestic product, constant prices</td>\n",
       "      <td>Expressed in billions of national currency uni...</td>\n",
       "      <td>National currency</td>\n",
       "      <td>Billions</td>\n",
       "      <td>Source: National Statistics Office Latest actu...</td>\n",
       "      <td>NaN</td>\n",
       "      <td>...</td>\n",
       "      <td>463.520</td>\n",
       "      <td>467.035</td>\n",
       "      <td>476.376</td>\n",
       "      <td>490.667</td>\n",
       "      <td>507.840</td>\n",
       "      <td>528.154</td>\n",
       "      <td>551.921</td>\n",
       "      <td>579.517</td>\n",
       "      <td>611.390</td>\n",
       "      <td>2014.0</td>\n",
       "    </tr>\n",
       "    <tr>\n",
       "      <th>1</th>\n",
       "      <td>512</td>\n",
       "      <td>AFG</td>\n",
       "      <td>NGDP_RPCH</td>\n",
       "      <td>Afghanistan</td>\n",
       "      <td>Gross domestic product, constant prices</td>\n",
       "      <td>Annual percentages of constant price GDP are y...</td>\n",
       "      <td>Percent change</td>\n",
       "      <td>NaN</td>\n",
       "      <td>See notes for:  Gross domestic product, consta...</td>\n",
       "      <td>NaN</td>\n",
       "      <td>...</td>\n",
       "      <td>1.282</td>\n",
       "      <td>0.758</td>\n",
       "      <td>2.000</td>\n",
       "      <td>3.000</td>\n",
       "      <td>3.500</td>\n",
       "      <td>4.000</td>\n",
       "      <td>4.500</td>\n",
       "      <td>5.000</td>\n",
       "      <td>5.500</td>\n",
       "      <td>2014.0</td>\n",
       "    </tr>\n",
       "    <tr>\n",
       "      <th>2</th>\n",
       "      <td>512</td>\n",
       "      <td>AFG</td>\n",
       "      <td>NGDP</td>\n",
       "      <td>Afghanistan</td>\n",
       "      <td>Gross domestic product, current prices</td>\n",
       "      <td>Expressed in billions of national currency uni...</td>\n",
       "      <td>National currency</td>\n",
       "      <td>Billions</td>\n",
       "      <td>Source: National Statistics Office Latest actu...</td>\n",
       "      <td>NaN</td>\n",
       "      <td>...</td>\n",
       "      <td>1,167.905</td>\n",
       "      <td>1,203.671</td>\n",
       "      <td>1,281.659</td>\n",
       "      <td>1,399.426</td>\n",
       "      <td>1,535.307</td>\n",
       "      <td>1,692.568</td>\n",
       "      <td>1,874.470</td>\n",
       "      <td>2,085.377</td>\n",
       "      <td>2,330.544</td>\n",
       "      <td>2014.0</td>\n",
       "    </tr>\n",
       "    <tr>\n",
       "      <th>3</th>\n",
       "      <td>512</td>\n",
       "      <td>AFG</td>\n",
       "      <td>NGDPD</td>\n",
       "      <td>Afghanistan</td>\n",
       "      <td>Gross domestic product, current prices</td>\n",
       "      <td>Values are based upon GDP in national currency...</td>\n",
       "      <td>U.S. dollars</td>\n",
       "      <td>Billions</td>\n",
       "      <td>See notes for:  Gross domestic product, curren...</td>\n",
       "      <td>NaN</td>\n",
       "      <td>...</td>\n",
       "      <td>20.352</td>\n",
       "      <td>19.687</td>\n",
       "      <td>18.886</td>\n",
       "      <td>20.570</td>\n",
       "      <td>21.706</td>\n",
       "      <td>23.233</td>\n",
       "      <td>24.930</td>\n",
       "      <td>26.857</td>\n",
       "      <td>29.113</td>\n",
       "      <td>2014.0</td>\n",
       "    </tr>\n",
       "    <tr>\n",
       "      <th>4</th>\n",
       "      <td>512</td>\n",
       "      <td>AFG</td>\n",
       "      <td>NGDP_D</td>\n",
       "      <td>Afghanistan</td>\n",
       "      <td>Gross domestic product, deflator</td>\n",
       "      <td>The GDP deflator is derived by dividing curren...</td>\n",
       "      <td>Index</td>\n",
       "      <td>NaN</td>\n",
       "      <td>See notes for:  Gross domestic product, consta...</td>\n",
       "      <td>NaN</td>\n",
       "      <td>...</td>\n",
       "      <td>251.964</td>\n",
       "      <td>257.726</td>\n",
       "      <td>269.044</td>\n",
       "      <td>285.209</td>\n",
       "      <td>302.321</td>\n",
       "      <td>320.469</td>\n",
       "      <td>339.627</td>\n",
       "      <td>359.848</td>\n",
       "      <td>381.188</td>\n",
       "      <td>2014.0</td>\n",
       "    </tr>\n",
       "  </tbody>\n",
       "</table>\n",
       "<p>5 rows × 53 columns</p>\n",
       "</div>"
      ],
      "text/plain": [
       "  WEO Country Code  ISO WEO Subject Code      Country  \\\n",
       "0              512  AFG           NGDP_R  Afghanistan   \n",
       "1              512  AFG        NGDP_RPCH  Afghanistan   \n",
       "2              512  AFG             NGDP  Afghanistan   \n",
       "3              512  AFG            NGDPD  Afghanistan   \n",
       "4              512  AFG           NGDP_D  Afghanistan   \n",
       "\n",
       "                        Subject Descriptor  \\\n",
       "0  Gross domestic product, constant prices   \n",
       "1  Gross domestic product, constant prices   \n",
       "2   Gross domestic product, current prices   \n",
       "3   Gross domestic product, current prices   \n",
       "4         Gross domestic product, deflator   \n",
       "\n",
       "                                       Subject Notes              Units  \\\n",
       "0  Expressed in billions of national currency uni...  National currency   \n",
       "1  Annual percentages of constant price GDP are y...     Percent change   \n",
       "2  Expressed in billions of national currency uni...  National currency   \n",
       "3  Values are based upon GDP in national currency...       U.S. dollars   \n",
       "4  The GDP deflator is derived by dividing curren...              Index   \n",
       "\n",
       "      Scale                      Country/Series-specific Notes 1980  \\\n",
       "0  Billions  Source: National Statistics Office Latest actu...  NaN   \n",
       "1       NaN  See notes for:  Gross domestic product, consta...  NaN   \n",
       "2  Billions  Source: National Statistics Office Latest actu...  NaN   \n",
       "3  Billions  See notes for:  Gross domestic product, curren...  NaN   \n",
       "4       NaN  See notes for:  Gross domestic product, consta...  NaN   \n",
       "\n",
       "           ...                2014       2015       2016       2017  \\\n",
       "0          ...             463.520    467.035    476.376    490.667   \n",
       "1          ...               1.282      0.758      2.000      3.000   \n",
       "2          ...           1,167.905  1,203.671  1,281.659  1,399.426   \n",
       "3          ...              20.352     19.687     18.886     20.570   \n",
       "4          ...             251.964    257.726    269.044    285.209   \n",
       "\n",
       "        2018       2019       2020       2021       2022 Estimates Start After  \n",
       "0    507.840    528.154    551.921    579.517    611.390                2014.0  \n",
       "1      3.500      4.000      4.500      5.000      5.500                2014.0  \n",
       "2  1,535.307  1,692.568  1,874.470  2,085.377  2,330.544                2014.0  \n",
       "3     21.706     23.233     24.930     26.857     29.113                2014.0  \n",
       "4    302.321    320.469    339.627    359.848    381.188                2014.0  \n",
       "\n",
       "[5 rows x 53 columns]"
      ]
     },
     "execution_count": 4,
     "metadata": {},
     "output_type": "execute_result"
    }
   ],
   "source": [
    "data2 = pd.read_csv('~/downloads/WEOApr2017all.xls', sep='\\t', encoding='latin-1')\n",
    "data2.head()"
   ]
  },
  {
   "cell_type": "code",
   "execution_count": 5,
   "metadata": {},
   "outputs": [
    {
     "data": {
      "text/html": [
       "<div>\n",
       "<style scoped>\n",
       "    .dataframe tbody tr th:only-of-type {\n",
       "        vertical-align: middle;\n",
       "    }\n",
       "\n",
       "    .dataframe tbody tr th {\n",
       "        vertical-align: top;\n",
       "    }\n",
       "\n",
       "    .dataframe thead th {\n",
       "        text-align: right;\n",
       "    }\n",
       "</style>\n",
       "<table border=\"1\" class=\"dataframe\">\n",
       "  <thead>\n",
       "    <tr style=\"text-align: right;\">\n",
       "      <th></th>\n",
       "      <th>CountryName</th>\n",
       "      <th>CountryCode</th>\n",
       "      <th>IndicatorName</th>\n",
       "      <th>IndicatorCode</th>\n",
       "      <th>Year</th>\n",
       "      <th>Value</th>\n",
       "    </tr>\n",
       "  </thead>\n",
       "  <tbody>\n",
       "    <tr>\n",
       "      <th>0</th>\n",
       "      <td>Arab World</td>\n",
       "      <td>ARB</td>\n",
       "      <td>Adolescent fertility rate (births per 1,000 wo...</td>\n",
       "      <td>SP.ADO.TFRT</td>\n",
       "      <td>1960</td>\n",
       "      <td>1.335609e+02</td>\n",
       "    </tr>\n",
       "    <tr>\n",
       "      <th>1</th>\n",
       "      <td>Arab World</td>\n",
       "      <td>ARB</td>\n",
       "      <td>Age dependency ratio (% of working-age populat...</td>\n",
       "      <td>SP.POP.DPND</td>\n",
       "      <td>1960</td>\n",
       "      <td>8.779760e+01</td>\n",
       "    </tr>\n",
       "    <tr>\n",
       "      <th>2</th>\n",
       "      <td>Arab World</td>\n",
       "      <td>ARB</td>\n",
       "      <td>Age dependency ratio, old (% of working-age po...</td>\n",
       "      <td>SP.POP.DPND.OL</td>\n",
       "      <td>1960</td>\n",
       "      <td>6.634579e+00</td>\n",
       "    </tr>\n",
       "    <tr>\n",
       "      <th>3</th>\n",
       "      <td>Arab World</td>\n",
       "      <td>ARB</td>\n",
       "      <td>Age dependency ratio, young (% of working-age ...</td>\n",
       "      <td>SP.POP.DPND.YG</td>\n",
       "      <td>1960</td>\n",
       "      <td>8.102333e+01</td>\n",
       "    </tr>\n",
       "    <tr>\n",
       "      <th>4</th>\n",
       "      <td>Arab World</td>\n",
       "      <td>ARB</td>\n",
       "      <td>Arms exports (SIPRI trend indicator values)</td>\n",
       "      <td>MS.MIL.XPRT.KD</td>\n",
       "      <td>1960</td>\n",
       "      <td>3.000000e+06</td>\n",
       "    </tr>\n",
       "    <tr>\n",
       "      <th>5</th>\n",
       "      <td>Arab World</td>\n",
       "      <td>ARB</td>\n",
       "      <td>Arms imports (SIPRI trend indicator values)</td>\n",
       "      <td>MS.MIL.MPRT.KD</td>\n",
       "      <td>1960</td>\n",
       "      <td>5.380000e+08</td>\n",
       "    </tr>\n",
       "    <tr>\n",
       "      <th>6</th>\n",
       "      <td>Arab World</td>\n",
       "      <td>ARB</td>\n",
       "      <td>Birth rate, crude (per 1,000 people)</td>\n",
       "      <td>SP.DYN.CBRT.IN</td>\n",
       "      <td>1960</td>\n",
       "      <td>4.769789e+01</td>\n",
       "    </tr>\n",
       "    <tr>\n",
       "      <th>7</th>\n",
       "      <td>Arab World</td>\n",
       "      <td>ARB</td>\n",
       "      <td>CO2 emissions (kt)</td>\n",
       "      <td>EN.ATM.CO2E.KT</td>\n",
       "      <td>1960</td>\n",
       "      <td>5.956399e+04</td>\n",
       "    </tr>\n",
       "    <tr>\n",
       "      <th>8</th>\n",
       "      <td>Arab World</td>\n",
       "      <td>ARB</td>\n",
       "      <td>CO2 emissions (metric tons per capita)</td>\n",
       "      <td>EN.ATM.CO2E.PC</td>\n",
       "      <td>1960</td>\n",
       "      <td>6.439635e-01</td>\n",
       "    </tr>\n",
       "    <tr>\n",
       "      <th>9</th>\n",
       "      <td>Arab World</td>\n",
       "      <td>ARB</td>\n",
       "      <td>CO2 emissions from gaseous fuel consumption (%...</td>\n",
       "      <td>EN.ATM.CO2E.GF.ZS</td>\n",
       "      <td>1960</td>\n",
       "      <td>5.041292e+00</td>\n",
       "    </tr>\n",
       "  </tbody>\n",
       "</table>\n",
       "</div>"
      ],
      "text/plain": [
       "  CountryName CountryCode                                      IndicatorName  \\\n",
       "0  Arab World         ARB  Adolescent fertility rate (births per 1,000 wo...   \n",
       "1  Arab World         ARB  Age dependency ratio (% of working-age populat...   \n",
       "2  Arab World         ARB  Age dependency ratio, old (% of working-age po...   \n",
       "3  Arab World         ARB  Age dependency ratio, young (% of working-age ...   \n",
       "4  Arab World         ARB        Arms exports (SIPRI trend indicator values)   \n",
       "5  Arab World         ARB        Arms imports (SIPRI trend indicator values)   \n",
       "6  Arab World         ARB               Birth rate, crude (per 1,000 people)   \n",
       "7  Arab World         ARB                                 CO2 emissions (kt)   \n",
       "8  Arab World         ARB             CO2 emissions (metric tons per capita)   \n",
       "9  Arab World         ARB  CO2 emissions from gaseous fuel consumption (%...   \n",
       "\n",
       "       IndicatorCode  Year         Value  \n",
       "0        SP.ADO.TFRT  1960  1.335609e+02  \n",
       "1        SP.POP.DPND  1960  8.779760e+01  \n",
       "2     SP.POP.DPND.OL  1960  6.634579e+00  \n",
       "3     SP.POP.DPND.YG  1960  8.102333e+01  \n",
       "4     MS.MIL.XPRT.KD  1960  3.000000e+06  \n",
       "5     MS.MIL.MPRT.KD  1960  5.380000e+08  \n",
       "6     SP.DYN.CBRT.IN  1960  4.769789e+01  \n",
       "7     EN.ATM.CO2E.KT  1960  5.956399e+04  \n",
       "8     EN.ATM.CO2E.PC  1960  6.439635e-01  \n",
       "9  EN.ATM.CO2E.GF.ZS  1960  5.041292e+00  "
      ]
     },
     "execution_count": 5,
     "metadata": {},
     "output_type": "execute_result"
    }
   ],
   "source": [
    "data.head(10)"
   ]
  },
  {
   "cell_type": "code",
   "execution_count": 6,
   "metadata": {},
   "outputs": [
    {
     "data": {
      "text/html": [
       "<div>\n",
       "<style scoped>\n",
       "    .dataframe tbody tr th:only-of-type {\n",
       "        vertical-align: middle;\n",
       "    }\n",
       "\n",
       "    .dataframe tbody tr th {\n",
       "        vertical-align: top;\n",
       "    }\n",
       "\n",
       "    .dataframe thead th {\n",
       "        text-align: right;\n",
       "    }\n",
       "</style>\n",
       "<table border=\"1\" class=\"dataframe\">\n",
       "  <thead>\n",
       "    <tr style=\"text-align: right;\">\n",
       "      <th></th>\n",
       "      <th>CountryName</th>\n",
       "      <th>CountryCode</th>\n",
       "      <th>IndicatorName</th>\n",
       "      <th>IndicatorCode</th>\n",
       "      <th>Year</th>\n",
       "      <th>Value</th>\n",
       "    </tr>\n",
       "  </thead>\n",
       "  <tbody>\n",
       "    <tr>\n",
       "      <th>5656448</th>\n",
       "      <td>Zimbabwe</td>\n",
       "      <td>ZWE</td>\n",
       "      <td>Strength of legal rights index (0=weak to 12=s...</td>\n",
       "      <td>IC.LGL.CRED.XQ</td>\n",
       "      <td>2015</td>\n",
       "      <td>5.0</td>\n",
       "    </tr>\n",
       "    <tr>\n",
       "      <th>5656449</th>\n",
       "      <td>Zimbabwe</td>\n",
       "      <td>ZWE</td>\n",
       "      <td>Tax payments (number)</td>\n",
       "      <td>IC.TAX.PAYM</td>\n",
       "      <td>2015</td>\n",
       "      <td>49.0</td>\n",
       "    </tr>\n",
       "    <tr>\n",
       "      <th>5656450</th>\n",
       "      <td>Zimbabwe</td>\n",
       "      <td>ZWE</td>\n",
       "      <td>Time required to build a warehouse (days)</td>\n",
       "      <td>IC.WRH.DURS</td>\n",
       "      <td>2015</td>\n",
       "      <td>448.0</td>\n",
       "    </tr>\n",
       "    <tr>\n",
       "      <th>5656451</th>\n",
       "      <td>Zimbabwe</td>\n",
       "      <td>ZWE</td>\n",
       "      <td>Time required to enforce a contract (days)</td>\n",
       "      <td>IC.LGL.DURS</td>\n",
       "      <td>2015</td>\n",
       "      <td>410.0</td>\n",
       "    </tr>\n",
       "    <tr>\n",
       "      <th>5656452</th>\n",
       "      <td>Zimbabwe</td>\n",
       "      <td>ZWE</td>\n",
       "      <td>Time required to get electricity (days)</td>\n",
       "      <td>IC.ELC.TIME</td>\n",
       "      <td>2015</td>\n",
       "      <td>106.0</td>\n",
       "    </tr>\n",
       "    <tr>\n",
       "      <th>5656453</th>\n",
       "      <td>Zimbabwe</td>\n",
       "      <td>ZWE</td>\n",
       "      <td>Time required to register property (days)</td>\n",
       "      <td>IC.PRP.DURS</td>\n",
       "      <td>2015</td>\n",
       "      <td>36.0</td>\n",
       "    </tr>\n",
       "    <tr>\n",
       "      <th>5656454</th>\n",
       "      <td>Zimbabwe</td>\n",
       "      <td>ZWE</td>\n",
       "      <td>Time required to start a business (days)</td>\n",
       "      <td>IC.REG.DURS</td>\n",
       "      <td>2015</td>\n",
       "      <td>90.0</td>\n",
       "    </tr>\n",
       "    <tr>\n",
       "      <th>5656455</th>\n",
       "      <td>Zimbabwe</td>\n",
       "      <td>ZWE</td>\n",
       "      <td>Time to prepare and pay taxes (hours)</td>\n",
       "      <td>IC.TAX.DURS</td>\n",
       "      <td>2015</td>\n",
       "      <td>242.0</td>\n",
       "    </tr>\n",
       "    <tr>\n",
       "      <th>5656456</th>\n",
       "      <td>Zimbabwe</td>\n",
       "      <td>ZWE</td>\n",
       "      <td>Time to resolve insolvency (years)</td>\n",
       "      <td>IC.ISV.DURS</td>\n",
       "      <td>2015</td>\n",
       "      <td>3.3</td>\n",
       "    </tr>\n",
       "    <tr>\n",
       "      <th>5656457</th>\n",
       "      <td>Zimbabwe</td>\n",
       "      <td>ZWE</td>\n",
       "      <td>Total tax rate (% of commercial profits)</td>\n",
       "      <td>IC.TAX.TOTL.CP.ZS</td>\n",
       "      <td>2015</td>\n",
       "      <td>32.8</td>\n",
       "    </tr>\n",
       "  </tbody>\n",
       "</table>\n",
       "</div>"
      ],
      "text/plain": [
       "        CountryName CountryCode  \\\n",
       "5656448    Zimbabwe         ZWE   \n",
       "5656449    Zimbabwe         ZWE   \n",
       "5656450    Zimbabwe         ZWE   \n",
       "5656451    Zimbabwe         ZWE   \n",
       "5656452    Zimbabwe         ZWE   \n",
       "5656453    Zimbabwe         ZWE   \n",
       "5656454    Zimbabwe         ZWE   \n",
       "5656455    Zimbabwe         ZWE   \n",
       "5656456    Zimbabwe         ZWE   \n",
       "5656457    Zimbabwe         ZWE   \n",
       "\n",
       "                                             IndicatorName      IndicatorCode  \\\n",
       "5656448  Strength of legal rights index (0=weak to 12=s...     IC.LGL.CRED.XQ   \n",
       "5656449                              Tax payments (number)        IC.TAX.PAYM   \n",
       "5656450          Time required to build a warehouse (days)        IC.WRH.DURS   \n",
       "5656451         Time required to enforce a contract (days)        IC.LGL.DURS   \n",
       "5656452            Time required to get electricity (days)        IC.ELC.TIME   \n",
       "5656453          Time required to register property (days)        IC.PRP.DURS   \n",
       "5656454           Time required to start a business (days)        IC.REG.DURS   \n",
       "5656455              Time to prepare and pay taxes (hours)        IC.TAX.DURS   \n",
       "5656456                 Time to resolve insolvency (years)        IC.ISV.DURS   \n",
       "5656457           Total tax rate (% of commercial profits)  IC.TAX.TOTL.CP.ZS   \n",
       "\n",
       "         Year  Value  \n",
       "5656448  2015    5.0  \n",
       "5656449  2015   49.0  \n",
       "5656450  2015  448.0  \n",
       "5656451  2015  410.0  \n",
       "5656452  2015  106.0  \n",
       "5656453  2015   36.0  \n",
       "5656454  2015   90.0  \n",
       "5656455  2015  242.0  \n",
       "5656456  2015    3.3  \n",
       "5656457  2015   32.8  "
      ]
     },
     "execution_count": 6,
     "metadata": {},
     "output_type": "execute_result"
    }
   ],
   "source": [
    "data[-10:]"
   ]
  },
  {
   "cell_type": "code",
   "execution_count": 8,
   "metadata": {},
   "outputs": [
    {
     "name": "stdout",
     "output_type": "stream",
     "text": [
      "True\n",
      "True\n",
      "True\n",
      "False\n",
      "True\n"
     ]
    }
   ],
   "source": [
    "a = data['CountryName'].str.contains('Botswana').any()\n",
    "print(a)\n",
    "\n",
    "b = data['CountryName'].str.contains('Ghana').any()\n",
    "print(b)\n",
    "\n",
    "c = data['CountryName'].str.contains('Kenya').any()\n",
    "print(c)\n",
    "\n",
    "x = data['IndicatorName'].str.contains('life expectancy').any()\n",
    "print(x)\n",
    "\n",
    "y = data['IndicatorName'].str.contains('education expenditure').any()\n",
    "print(y)\n",
    "\n"
   ]
  },
  {
   "cell_type": "code",
   "execution_count": 9,
   "metadata": {},
   "outputs": [],
   "source": [
    "mask1 = data['IndicatorName'].str.contains('age')\n",
    "test1 = data[mask1]"
   ]
  },
  {
   "cell_type": "code",
   "execution_count": 10,
   "metadata": {},
   "outputs": [
    {
     "data": {
      "text/plain": [
       "False    5631942\n",
       "True       24516\n",
       "Name: IndicatorName, dtype: int64"
      ]
     },
     "execution_count": 10,
     "metadata": {},
     "output_type": "execute_result"
    }
   ],
   "source": [
    "x = data['IndicatorName'].str.contains('Survival to age 65')\n",
    "x.value_counts()\n"
   ]
  },
  {
   "cell_type": "code",
   "execution_count": 147,
   "metadata": {},
   "outputs": [],
   "source": [
    "mask1 = data2['Country'].str.contains('Botswana')\n",
    "mask2 = data2['Subject Descriptor'].str.contains('Gross domestic product, constant prices')\n",
    "\n",
    "mask3 = data2['Units'].str.contains('National currency')\n",
    "\n",
    "Botswana_GDP_change = data2[mask1 & mask2 & mask3]\n",
    "\n"
   ]
  },
  {
   "cell_type": "code",
   "execution_count": 148,
   "metadata": {},
   "outputs": [
    {
     "data": {
      "text/html": [
       "<div>\n",
       "<style scoped>\n",
       "    .dataframe tbody tr th:only-of-type {\n",
       "        vertical-align: middle;\n",
       "    }\n",
       "\n",
       "    .dataframe tbody tr th {\n",
       "        vertical-align: top;\n",
       "    }\n",
       "\n",
       "    .dataframe thead th {\n",
       "        text-align: right;\n",
       "    }\n",
       "</style>\n",
       "<table border=\"1\" class=\"dataframe\">\n",
       "  <thead>\n",
       "    <tr style=\"text-align: right;\">\n",
       "      <th></th>\n",
       "      <th>WEO Country Code</th>\n",
       "      <th>ISO</th>\n",
       "      <th>WEO Subject Code</th>\n",
       "      <th>Country</th>\n",
       "      <th>Subject Descriptor</th>\n",
       "      <th>Subject Notes</th>\n",
       "      <th>Units</th>\n",
       "      <th>Scale</th>\n",
       "      <th>Country/Series-specific Notes</th>\n",
       "      <th>1980</th>\n",
       "      <th>...</th>\n",
       "      <th>2014</th>\n",
       "      <th>2015</th>\n",
       "      <th>2016</th>\n",
       "      <th>2017</th>\n",
       "      <th>2018</th>\n",
       "      <th>2019</th>\n",
       "      <th>2020</th>\n",
       "      <th>2021</th>\n",
       "      <th>2022</th>\n",
       "      <th>Estimates Start After</th>\n",
       "    </tr>\n",
       "  </thead>\n",
       "  <tbody>\n",
       "    <tr>\n",
       "      <th>924</th>\n",
       "      <td>616</td>\n",
       "      <td>BWA</td>\n",
       "      <td>NGDP_R</td>\n",
       "      <td>Botswana</td>\n",
       "      <td>Gross domestic product, constant prices</td>\n",
       "      <td>Expressed in billions of national currency uni...</td>\n",
       "      <td>National currency</td>\n",
       "      <td>Billions</td>\n",
       "      <td>Source: National Statistics Office Latest actu...</td>\n",
       "      <td>10.837</td>\n",
       "      <td>...</td>\n",
       "      <td>87.569</td>\n",
       "      <td>86.081</td>\n",
       "      <td>88.546</td>\n",
       "      <td>92.171</td>\n",
       "      <td>96.031</td>\n",
       "      <td>100.174</td>\n",
       "      <td>104.492</td>\n",
       "      <td>108.773</td>\n",
       "      <td>113.192</td>\n",
       "      <td>2015.0</td>\n",
       "    </tr>\n",
       "  </tbody>\n",
       "</table>\n",
       "<p>1 rows × 53 columns</p>\n",
       "</div>"
      ],
      "text/plain": [
       "    WEO Country Code  ISO WEO Subject Code   Country  \\\n",
       "924              616  BWA           NGDP_R  Botswana   \n",
       "\n",
       "                          Subject Descriptor  \\\n",
       "924  Gross domestic product, constant prices   \n",
       "\n",
       "                                         Subject Notes              Units  \\\n",
       "924  Expressed in billions of national currency uni...  National currency   \n",
       "\n",
       "        Scale                      Country/Series-specific Notes    1980  \\\n",
       "924  Billions  Source: National Statistics Office Latest actu...  10.837   \n",
       "\n",
       "             ...             2014    2015    2016    2017    2018     2019  \\\n",
       "924          ...           87.569  86.081  88.546  92.171  96.031  100.174   \n",
       "\n",
       "        2020     2021     2022 Estimates Start After  \n",
       "924  104.492  108.773  113.192                2015.0  \n",
       "\n",
       "[1 rows x 53 columns]"
      ]
     },
     "execution_count": 148,
     "metadata": {},
     "output_type": "execute_result"
    }
   ],
   "source": [
    "Botswana_GDP_change.head()"
   ]
  },
  {
   "cell_type": "code",
   "execution_count": 151,
   "metadata": {},
   "outputs": [
    {
     "name": "stderr",
     "output_type": "stream",
     "text": [
      "/Users/akshat/anaconda3/lib/python3.6/site-packages/ipykernel_launcher.py:2: FutureWarning: convert_objects is deprecated.  To re-infer data dtypes for object columns, use Series.infer_objects()\n",
      "For all other conversions use the data-type specific converters pd.to_datetime, pd.to_timedelta and pd.to_numeric.\n",
      "  \n"
     ]
    },
    {
     "data": {
      "text/plain": [
       "Text(0.5,0,'Years')"
      ]
     },
     "execution_count": 151,
     "metadata": {},
     "output_type": "execute_result"
    },
    {
     "data": {
      "image/png": "[encoded data removed]",
      "text/plain": [
       "<Figure size 432x288 with 1 Axes>"
      ]
     },
     "metadata": {},
     "output_type": "display_data"
    }
   ],
   "source": [
    "y = pd.Series(Botswana_GDP_change.iloc[0, 9:43].values)\n",
    "y = y.convert_objects(convert_numeric=True)\n",
    "x = pd.Series([1980, 1981, 1982, 1983, 1984, 1985, 1986, 1987, 1988, 1989, 1990, 1991, 1992, 1993, 1994, 1995, 1996, 1997, 1998, 1999, 2000, 2001, 2002, 2003, 2004, 2005, 2006, 2007, 2008, 2009, 2010, 2011, 2012, 2013])\n",
    "\n",
    "plt.axis([1980, 2013,0,100])\n",
    "\n",
    "Graph_Botswana_GDP_change = plt.plot(x, y, 'g', linewidth= 2.0,)\n",
    "\n",
    "\n",
    "x = font = {'family': 'times new roman',\n",
    "        'color':  'darkred',\n",
    "        'weight': 'regular',\n",
    "        'size': 13,\n",
    "        }\n",
    "\n",
    "y = font = {'family': 'times new roman',\n",
    "        'color':  'darkred',\n",
    "        'weight': 'regular',\n",
    "        'size': 13,\n",
    "        }\n",
    "\n",
    "\n",
    "z = font = {'family': 'times new roman',\n",
    "        'color':  'black',\n",
    "        'weight': 'heavy',\n",
    "        'size': 15,\n",
    "        }\n",
    "\n",
    "\n",
    "plt.ylabel(\"GDP at current prices, BWP (b)\", fontdict=x, labelpad = 12)\n",
    "plt.title(\"Development of Botwsana's GDP (current prices)\", fontdict=z)\n",
    "\n",
    "\n",
    "plt.xlabel('Years', fontdict=y, labelpad = 12)"
   ]
  },
  {
   "cell_type": "code",
   "execution_count": 15,
   "metadata": {},
   "outputs": [
    {
     "name": "stdout",
     "output_type": "stream",
     "text": [
      "1970\n",
      "1960\n",
      "2013\n",
      "2013\n"
     ]
    }
   ],
   "source": [
    "maskA = data['CountryName'].str.contains('Botswana')\n",
    "maskB = data['IndicatorName'].str.contains('education expenditure')\n",
    "\n",
    "# Just note that we are considering only the male population so as to make overall analysis simpler\n",
    "maskC = data['IndicatorName'].str.contains('Survival to age 65, male')\n",
    "\n",
    "#For the change in education expenditure, we have this value expressed in terms of a percentage change, as well as the actual amount\n",
    "# So as to make the difference between start to end comparable, we will choose the second option\n",
    "maskD = data['IndicatorCode'].str.contains('NY.ADJ.AEDU.CD')\n",
    "\n",
    "Botswana_education_expenditure = data[maskA & maskB & maskD]\n",
    "Botswana_Survival_to_age_65 = data[maskA & maskC]\n",
    "\n",
    "print(Botswana_education_expenditure['Year'].min())\n",
    "print(Botswana_Survival_to_age_65['Year'].min())\n",
    "\n",
    "print(Botswana_education_expenditure['Year'].max())\n",
    "print(Botswana_Survival_to_age_65['Year'].max())\n",
    "\n",
    "Botswana_education_expenditure = Botswana_education_expenditure[Botswana_education_expenditure['Year'] >= 1980]\n",
    "Botswana_Survival_to_age_65 = Botswana_Survival_to_age_65[Botswana_Survival_to_age_65['Year'] >= 1980]\n"
   ]
  },
  {
   "cell_type": "code",
   "execution_count": 153,
   "metadata": {},
   "outputs": [
    {
     "data": {
      "image/png": "[encoded data removed]",
      "text/plain": [
       "<Figure size 432x288 with 1 Axes>"
      ]
     },
     "metadata": {},
     "output_type": "display_data"
    }
   ],
   "source": [
    "plt.plot(Botswana_Survival_to_age_65 ['Year'].values, Botswana_Survival_to_age_65 ['Value'].values, 'b')\n",
    "\n",
    "plt.axis([1980, 2013,0,60])\n",
    "\n",
    "plt.xlabel('Years', fontdict=x, labelpad = 12)\n",
    "plt.ylabel('Percentage of population', fontdict = y, labelpad = 12)\n",
    "plt.title(\"Botswana Surivival Rate to age 65\", fontdict = z)\n",
    "\n",
    "x = font = {'family': 'times new roman',\n",
    "        'color':  'darkorange',\n",
    "        'weight': 'regular',\n",
    "        'size': 15,\n",
    "        }\n",
    "\n",
    "y = font = {'family': 'times new roman',\n",
    "        'color':  'darkorange',\n",
    "        'weight': 'regular',\n",
    "        'size': 15,\n",
    "        }\n",
    "\n",
    "\n",
    "z = font = {'family': 'times new roman',\n",
    "        'color':  'black',\n",
    "        'weight': 'heavy',\n",
    "        'size': 17,\n",
    "        }"
   ]
  },
  {
   "cell_type": "code",
   "execution_count": 160,
   "metadata": {},
   "outputs": [
    {
     "data": {
      "image/png": "[encoded data removed]",
      "text/plain": [
       "<Figure size 432x288 with 1 Axes>"
      ]
     },
     "metadata": {},
     "output_type": "display_data"
    }
   ],
   "source": [
    "#Change in education expenditure\n",
    "\n",
    "\n",
    "plt.bar(Botswana_education_expenditure ['Year'].values, Botswana_education_expenditure ['Value'].values, color = 'r')\n",
    "\n",
    "\n",
    "plt.axis([1980, 2013,0, 1500000000])\n",
    "\n",
    "plt.xlabel('Years', fontdict=X,  labelpad =12)\n",
    "plt.ylabel('Amount Spent, BWD' , fontdict = Y, labelpad =12)\n",
    "plt.title(\"Change in Botswana's education expenditure\", fontdict=Z)\n",
    "\n",
    "X = font = {'family': 'times new roman',\n",
    "        'color':  'darkorange',\n",
    "        'weight': 'regular',\n",
    "        'size': 15,\n",
    "        }\n",
    "\n",
    "Y = font = {'family': 'times new roman',\n",
    "        'color':  'darkorange',\n",
    "        'weight': 'regular',\n",
    "        'size': 15,\n",
    "        }\n",
    "\n",
    "\n",
    "Z = font = {'family': 'times new roman',\n",
    "        'color':  'black',\n",
    "        'weight': 'heavy',\n",
    "        'size': 16,\n",
    "        }\n"
   ]
  },
  {
   "cell_type": "code",
   "execution_count": 163,
   "metadata": {},
   "outputs": [
    {
     "name": "stderr",
     "output_type": "stream",
     "text": [
      "/Users/akshat/anaconda3/lib/python3.6/site-packages/ipykernel_launcher.py:3: FutureWarning: convert_objects is deprecated.  To re-infer data dtypes for object columns, use Series.infer_objects()\n",
      "For all other conversions use the data-type specific converters pd.to_datetime, pd.to_timedelta and pd.to_numeric.\n",
      "  This is separate from the ipykernel package so we can avoid doing imports until\n"
     ]
    },
    {
     "data": {
      "text/plain": [
       "Text(0.5,1,'GDP against literacy indicator')"
      ]
     },
     "execution_count": 163,
     "metadata": {},
     "output_type": "execute_result"
    },
    {
     "data": {
      "image/png": "[encoded data removed]",
      "text/plain": [
       "<Figure size 432x288 with 1 Axes>"
      ]
     },
     "metadata": {},
     "output_type": "display_data"
    }
   ],
   "source": [
    "x = Botswana_education_expenditure ['Value'].values\n",
    "y = pd.Series(Botswana_GDP_change.iloc[0, 9:43].values)\n",
    "y = y.convert_objects(convert_numeric=True)\n",
    "\n",
    "plt.scatter(x, y)\n",
    "\n",
    "\n",
    "X = font = {'family': 'times new roman',\n",
    "        'color':  'purple',\n",
    "        'weight': 'regular',\n",
    "        'size': 15,\n",
    "        }\n",
    "\n",
    "Y = font = {'family': 'times new roman',\n",
    "        'color':  'purple',\n",
    "        'weight': 'regular',\n",
    "        'size': 15,\n",
    "        }\n",
    "\n",
    "\n",
    "Z = font = {'family': 'times new roman',\n",
    "        'color':  'black',\n",
    "        'weight': 'heavy',\n",
    "        'size': 16,\n",
    "        }\n",
    "\n",
    "plt.xlabel('Botswana, Education Expenditure', fontdict = X,  labelpad =12)\n",
    "plt.ylabel('Botswana, GDP, BWD(BN)', fontdict =Y , labelpad =12)\n",
    "plt.title('GDP against literacy indicator', fontdict=Z)\n",
    "\n",
    "\n",
    "\n"
   ]
  },
  {
   "cell_type": "code",
   "execution_count": 46,
   "metadata": {},
   "outputs": [
    {
     "data": {
      "text/plain": [
       "array([[1.        , 0.95048169],\n",
       "       [0.95048169, 1.        ]])"
      ]
     },
     "execution_count": 46,
     "metadata": {},
     "output_type": "execute_result"
    }
   ],
   "source": [
    "np.corrcoef(x,y)"
   ]
  },
  {
   "cell_type": "code",
   "execution_count": 129,
   "metadata": {},
   "outputs": [
    {
     "name": "stderr",
     "output_type": "stream",
     "text": [
      "/Users/akshat/anaconda3/lib/python3.6/site-packages/ipykernel_launcher.py:3: FutureWarning: convert_objects is deprecated.  To re-infer data dtypes for object columns, use Series.infer_objects()\n",
      "For all other conversions use the data-type specific converters pd.to_datetime, pd.to_timedelta and pd.to_numeric.\n",
      "  This is separate from the ipykernel package so we can avoid doing imports until\n"
     ]
    },
    {
     "data": {
      "text/plain": [
       "Text(0.5,1,'GDP against health care indicator ')"
      ]
     },
     "execution_count": 129,
     "metadata": {},
     "output_type": "execute_result"
    },
    {
     "data": {
      "image/png": "[encoded data removed]",
      "text/plain": [
       "<Figure size 432x288 with 1 Axes>"
      ]
     },
     "metadata": {},
     "output_type": "display_data"
    }
   ],
   "source": [
    "x = Botswana_Survival_to_age_65 ['Value'].values\n",
    "y = pd.Series(Botswana_GDP_change.iloc[0, 9:43].values)\n",
    "y = y.convert_objects(convert_numeric=True)\n",
    "\n",
    "plt.scatter(x, y)\n",
    "\n",
    "plt.axis([0, 60,0, 85])\n",
    "\n",
    "X = font = {'family': 'times new roman',\n",
    "        'color':  'purple',\n",
    "        'weight': 'regular',\n",
    "        'size': 13,\n",
    "        }\n",
    "\n",
    "Y = font = {'family': 'times new roman',\n",
    "        'color':  'purple',\n",
    "        'weight': 'regular',\n",
    "        'size': 13,\n",
    "        }\n",
    "\n",
    "\n",
    "Z = font = {'family': 'times new roman',\n",
    "        'color':  'black',\n",
    "        'weight': 'heavy',\n",
    "        'size': 15,\n",
    "        }\n",
    "\n",
    "plt.xlabel('Botswana, Percentage of population to reach 65)', fontdict = X,  labelpad =12)\n",
    "plt.ylabel('Botswana, GDP, BWD(BN)', fontdict =Y , labelpad =12)\n",
    "plt.title('GDP against health care indicator ', fontdict=Z)\n",
    "\n"
   ]
  },
  {
   "cell_type": "code",
   "execution_count": 80,
   "metadata": {},
   "outputs": [
    {
     "data": {
      "text/plain": [
       "array([[ 1.        , -0.26031711],\n",
       "       [-0.26031711,  1.        ]])"
      ]
     },
     "execution_count": 80,
     "metadata": {},
     "output_type": "execute_result"
    }
   ],
   "source": [
    "np.corrcoef(x,y)"
   ]
  },
  {
   "cell_type": "code",
   "execution_count": 87,
   "metadata": {},
   "outputs": [],
   "source": [
    "mask1 = data2['Country'].str.contains('Ghana')\n",
    "mask2 = data2['Subject Descriptor'].str.contains('Gross domestic product, constant prices')\n",
    "\n",
    "mask3 = data2['Units'].str.contains('National currency')\n",
    "\n",
    "Ghana_GDP_change = data2[mask1 & mask2 & mask3]\n",
    "\n"
   ]
  },
  {
   "cell_type": "code",
   "execution_count": 131,
   "metadata": {},
   "outputs": [
    {
     "name": "stderr",
     "output_type": "stream",
     "text": [
      "/Users/akshat/anaconda3/lib/python3.6/site-packages/ipykernel_launcher.py:2: FutureWarning: convert_objects is deprecated.  To re-infer data dtypes for object columns, use Series.infer_objects()\n",
      "For all other conversions use the data-type specific converters pd.to_datetime, pd.to_timedelta and pd.to_numeric.\n",
      "  \n"
     ]
    },
    {
     "data": {
      "text/plain": [
       "Text(0.5,0,'Years')"
      ]
     },
     "execution_count": 131,
     "metadata": {},
     "output_type": "execute_result"
    },
    {
     "data": {
      "image/png": "[encoded data removed]",
      "text/plain": [
       "<Figure size 432x288 with 1 Axes>"
      ]
     },
     "metadata": {},
     "output_type": "display_data"
    }
   ],
   "source": [
    "y = pd.Series(Ghana_GDP_change.iloc[0, 9:43].values)\n",
    "y = y.convert_objects(convert_numeric=True)\n",
    "x = pd.Series([1980, 1981, 1982, 1983, 1984, 1985, 1986, 1987, 1988, 1989, 1990, 1991, 1992, 1993, 1994, 1995, 1996, 1997, 1998, 1999, 2000, 2001, 2002, 2003, 2004, 2005, 2006, 2007, 2008, 2009, 2010, 2011, 2012, 2013])\n",
    "\n",
    "plt.axis([1980, 2013,0,100])\n",
    "\n",
    "Graph_Ghana_GDP_change = plt.plot(x, y, 'g', linewidth= 2.0,)\n",
    "\n",
    "\n",
    "x = font = {'family': 'times new roman',\n",
    "        'color':  'darkred',\n",
    "        'weight': 'regular',\n",
    "        'size': 13,\n",
    "        }\n",
    "\n",
    "y = font = {'family': 'times new roman',\n",
    "        'color':  'darkred',\n",
    "        'weight': 'regular',\n",
    "        'size': 13,\n",
    "        }\n",
    "\n",
    "\n",
    "z = font = {'family': 'times new roman',\n",
    "        'color':  'black',\n",
    "        'weight': 'heavy',\n",
    "        'size': 15,\n",
    "        }\n",
    "\n",
    "\n",
    "plt.ylabel(\"GDP at current prices, GH₵ (BN)\", fontdict=x, labelpad = 12)\n",
    "plt.title(\"Development of Ghana's GDP (current prices)\", fontdict=z)\n",
    "\n",
    "\n",
    "plt.xlabel('Years', fontdict=y, labelpad = 12)"
   ]
  },
  {
   "cell_type": "code",
   "execution_count": 90,
   "metadata": {},
   "outputs": [
    {
     "name": "stdout",
     "output_type": "stream",
     "text": [
      "1970\n",
      "1960\n",
      "2013\n",
      "2013\n"
     ]
    }
   ],
   "source": [
    "maskA = data['CountryName'].str.contains('Ghana')\n",
    "maskB = data['IndicatorName'].str.contains('education expenditure')\n",
    "\n",
    "# Just note that we are considering only the male population so as to make overall analysis simpler\n",
    "maskC = data['IndicatorName'].str.contains('Survival to age 65, male')\n",
    "\n",
    "#For the change in education expenditure, we have this value expressed in terms of a percentage change, as well as the actual amount\n",
    "# So as to make the difference between start to end comparable, we will choose the second option\n",
    "maskD = data['IndicatorCode'].str.contains('NY.ADJ.AEDU.CD')\n",
    "\n",
    "Ghana_education_expenditure = data[maskA & maskB & maskD]\n",
    "Ghana_Survival_to_age_65 = data[maskA & maskC]\n",
    "\n",
    "print(Ghana_education_expenditure['Year'].min())\n",
    "print(Ghana_Survival_to_age_65['Year'].min())\n",
    "\n",
    "print(Ghana_education_expenditure['Year'].max())\n",
    "print(Ghana_Survival_to_age_65['Year'].max())\n",
    "\n",
    "Ghana_education_expenditure = Ghana_education_expenditure[Ghana_education_expenditure['Year'] >= 1980]\n",
    "Ghana_Survival_to_age_65 = Ghana_Survival_to_age_65[Ghana_Survival_to_age_65['Year'] >= 1980]\n"
   ]
  },
  {
   "cell_type": "code",
   "execution_count": 133,
   "metadata": {},
   "outputs": [
    {
     "data": {
      "image/png": "[encoded data removed]",
      "text/plain": [
       "<Figure size 432x288 with 1 Axes>"
      ]
     },
     "metadata": {},
     "output_type": "display_data"
    }
   ],
   "source": [
    "plt.plot(Ghana_Survival_to_age_65 ['Year'].values, Ghana_Survival_to_age_65 ['Value'].values, 'b')\n",
    "\n",
    "plt.axis([1980, 2013,0,60])\n",
    "\n",
    "plt.xlabel('Years', fontdict=x, labelpad = 12)\n",
    "plt.ylabel('Percentage of population', fontdict = y, labelpad = 12)\n",
    "plt.title(\"Ghana Surivival Rate to age 65\", fontdict = z)\n",
    "\n",
    "x = font = {'family': 'times new roman',\n",
    "        'color':  'darkorange',\n",
    "        'weight': 'regular',\n",
    "        'size': 13,\n",
    "        }\n",
    "\n",
    "y = font = {'family': 'times new roman',\n",
    "        'color':  'darkorange',\n",
    "        'weight': 'regular',\n",
    "        'size': 13,\n",
    "        }\n",
    "\n",
    "\n",
    "z = font = {'family': 'times new roman',\n",
    "        'color':  'black',\n",
    "        'weight': 'heavy',\n",
    "        'size': 14,\n",
    "        }"
   ]
  },
  {
   "cell_type": "code",
   "execution_count": 138,
   "metadata": {},
   "outputs": [
    {
     "data": {
      "image/png": "[encoded data removed]",
      "text/plain": [
       "<Figure size 432x288 with 1 Axes>"
      ]
     },
     "metadata": {},
     "output_type": "display_data"
    }
   ],
   "source": [
    "#Change in education expenditure\n",
    "\n",
    "\n",
    "plt.bar(Ghana_education_expenditure ['Year'].values, Ghana_education_expenditure ['Value'].values, color = 'r')\n",
    "\n",
    "\n",
    "plt.axis([1980, 2013,0, 4000000000])\n",
    "\n",
    "plt.xlabel('Years', fontdict=x,  labelpad =12)\n",
    "plt.ylabel('Amount Spent, BWD' , fontdict = y, labelpad =12)\n",
    "plt.title(\"Change in Ghana's education expenditure\", fontdict=z)\n",
    "\n",
    "x = font = {'family': 'times new roman',\n",
    "        'color':  'darkorange',\n",
    "        'weight': 'regular',\n",
    "        'size': 13,\n",
    "        }\n",
    "\n",
    "y = font = {'family': 'times new roman',\n",
    "        'color':  'darkorange',\n",
    "        'weight': 'regular',\n",
    "        'size': 13,\n",
    "        }\n",
    "\n",
    "\n",
    "z = font = {'family': 'times new roman',\n",
    "        'color':  'black',\n",
    "        'weight': 'heavy',\n",
    "        'size': 15,\n",
    "        }\n"
   ]
  },
  {
   "cell_type": "code",
   "execution_count": 142,
   "metadata": {},
   "outputs": [
    {
     "name": "stderr",
     "output_type": "stream",
     "text": [
      "/Users/akshat/anaconda3/lib/python3.6/site-packages/ipykernel_launcher.py:3: FutureWarning: convert_objects is deprecated.  To re-infer data dtypes for object columns, use Series.infer_objects()\n",
      "For all other conversions use the data-type specific converters pd.to_datetime, pd.to_timedelta and pd.to_numeric.\n",
      "  This is separate from the ipykernel package so we can avoid doing imports until\n"
     ]
    },
    {
     "data": {
      "text/plain": [
       "Text(0.5,1,'GDP against literacy indicator')"
      ]
     },
     "execution_count": 142,
     "metadata": {},
     "output_type": "execute_result"
    },
    {
     "data": {
      "image/png": "[encoded data removed]",
      "text/plain": [
       "<Figure size 432x288 with 1 Axes>"
      ]
     },
     "metadata": {},
     "output_type": "display_data"
    }
   ],
   "source": [
    "x = Ghana_education_expenditure ['Value'].values\n",
    "y = pd.Series(Ghana_GDP_change.iloc[0, 9:43].values)\n",
    "y = y.convert_objects(convert_numeric=True)\n",
    "\n",
    "plt.scatter(x, y)\n",
    "\n",
    "\n",
    "X = font = {'family': 'times new roman',\n",
    "        'color':  'purple',\n",
    "        'weight': 'regular',\n",
    "        'size': 13,\n",
    "        }\n",
    "\n",
    "Y = font = {'family': 'times new roman',\n",
    "        'color':  'purple',\n",
    "        'weight': 'regular',\n",
    "        'size': 13,\n",
    "        }\n",
    "\n",
    "\n",
    "Z = font = {'family': 'times new roman',\n",
    "        'color':  'black',\n",
    "        'weight': 'heavy',\n",
    "        'size': 15,\n",
    "        }\n",
    "\n",
    "plt.xlabel('Ghana, Education Expenditure', fontdict = X,  labelpad =12)\n",
    "plt.ylabel('Ghana, GDP, GH₵(BN)', fontdict =Y , labelpad =12)\n",
    "plt.title('GDP against literacy indicator', fontdict=Z)\n",
    "\n",
    "\n",
    "\n"
   ]
  },
  {
   "cell_type": "code",
   "execution_count": 110,
   "metadata": {},
   "outputs": [
    {
     "data": {
      "text/plain": [
       "array([[1.        , 0.92351887],\n",
       "       [0.92351887, 1.        ]])"
      ]
     },
     "execution_count": 110,
     "metadata": {},
     "output_type": "execute_result"
    }
   ],
   "source": [
    "np.corrcoef(x,y)"
   ]
  },
  {
   "cell_type": "code",
   "execution_count": 145,
   "metadata": {},
   "outputs": [
    {
     "name": "stderr",
     "output_type": "stream",
     "text": [
      "/Users/akshat/anaconda3/lib/python3.6/site-packages/ipykernel_launcher.py:3: FutureWarning: convert_objects is deprecated.  To re-infer data dtypes for object columns, use Series.infer_objects()\n",
      "For all other conversions use the data-type specific converters pd.to_datetime, pd.to_timedelta and pd.to_numeric.\n",
      "  This is separate from the ipykernel package so we can avoid doing imports until\n"
     ]
    },
    {
     "data": {
      "text/plain": [
       "Text(0.5,1,'GDP against health care indicator ')"
      ]
     },
     "execution_count": 145,
     "metadata": {},
     "output_type": "execute_result"
    },
    {
     "data": {
      "image/png": "[encoded data removed]",
      "text/plain": [
       "<Figure size 432x288 with 1 Axes>"
      ]
     },
     "metadata": {},
     "output_type": "display_data"
    }
   ],
   "source": [
    "x = Ghana_Survival_to_age_65 ['Value'].values\n",
    "y = pd.Series(Ghana_GDP_change.iloc[0, 9:43].values)\n",
    "y = y.convert_objects(convert_numeric=True)\n",
    "\n",
    "plt.scatter(x, y)\n",
    "\n",
    "plt.axis([0, 60,0, 85])\n",
    "\n",
    "X = font = {'family': 'times new roman',\n",
    "        'color':  'purple',\n",
    "        'weight': 'regular',\n",
    "        'size': 13,\n",
    "        }\n",
    "\n",
    "Y = font = {'family': 'times new roman',\n",
    "        'color':  'purple',\n",
    "        'weight': 'regular',\n",
    "        'size': 13,\n",
    "        }\n",
    "\n",
    "\n",
    "Z = font = {'family': 'times new roman',\n",
    "        'color':  'black',\n",
    "        'weight': 'heavy',\n",
    "        'size': 15,\n",
    "        }\n",
    "\n",
    "plt.xlabel('Ghana, Percentage of population to reach 65)', fontdict = X,  labelpad =12)\n",
    "plt.ylabel('Ghana, GDP, BWD(BN)', fontdict =Y , labelpad =12)\n",
    "plt.title('GDP against health care indicator ', fontdict=Z)\n",
    "\n"
   ]
  },
  {
   "cell_type": "code",
   "execution_count": 113,
   "metadata": {},
   "outputs": [
    {
     "data": {
      "text/plain": [
       "array([[1.        , 0.88676237],\n",
       "       [0.88676237, 1.        ]])"
      ]
     },
     "execution_count": 113,
     "metadata": {},
     "output_type": "execute_result"
    }
   ],
   "source": [
    "np.corrcoef(x,y)"
   ]
  },
  {
   "cell_type": "code",
   "execution_count": null,
   "metadata": {},
   "outputs": [],
   "source": []
  }
 ],
 "metadata": {
  "kernelspec": {
   "display_name": "Python 3",
   "language": "python",
   "name": "python3"
  },
  "language_info": {
   "codemirror_mode": {
    "name": "ipython",
    "version": 3
   },
   "file_extension": ".py",
   "mimetype": "text/x-python",
   "name": "python",
   "nbconvert_exporter": "python",
   "pygments_lexer": "ipython3",
   "version": "3.6.5"
  }
 },
 "nbformat": 4,
 "nbformat_minor": 2
}
